{
 "cells": [
  {
   "cell_type": "markdown",
   "metadata": {},
   "source": [
    "# Debugging File"
   ]
  },
  {
   "cell_type": "markdown",
   "metadata": {},
   "source": [
    "To investigate and potentially resolve the issue causing your Jupyter kernel to crash, follow these steps:\n",
    "\n",
    "1. **Check the Error Message**: Look at the error message or traceback provided when the kernel crashes. This can give you clues about what might be going wrong.\n",
    "\n",
    "2. **Increase Logging**: Enable more detailed logging to get more information about the crash. You can start Jupyter with increased logging by running the following command in your terminal:\n",
    "\n",
    "    ```bash\n",
    "    jupyter notebook --debug\n",
    "    ```\n",
    "\n",
    "3. **Check System Resources**: Ensure that your system has enough resources (RAM, CPU) to handle the computations in the cell. You can monitor system resources using tools like `htop` or `top`.\n",
    "\n",
    "4. **Compare Environments**: Compare the versions of Python and all installed packages between your environment and your colleague's environment. You can generate a list of installed packages with their versions using:\n",
    "\n",
    "    ```bash\n",
    "    2-AAPM/.venv/bin/pip freeze > my_environment.txt\n",
    "    ```\n",
    "\n",
    "    Ask your colleague to do the same and compare the two files.\n",
    "\n",
    "5. **Isolate the Problem**: Try to isolate the problem by running smaller parts of the code in the problematic cell to identify which specific line or operation is causing the crash.\n",
    "\n",
    "6. **Check for Hardware-Specific Issues**: Some libraries, especially those that use hardware acceleration (like JAX), might behave differently on different hardware. Ensure that your hardware (CPU/GPU) is compatible and properly configured.\n",
    "\n",
    "7. **Update Packages**: Ensure that all packages are up to date. Sometimes, bugs are fixed in newer versions of libraries.\n",
    "\n",
    "    ```bash\n",
    "    2-AAPM/.venv/bin/pip install --upgrade jax numpy\n",
    "    ```\n",
    "\n",
    "8. **Recreate the Environment**: As a last resort, try recreating your virtual environment from scratch:\n",
    "\n",
    "    ```bash\n",
    "    cd 2-AAPM\n",
    "    rm -rf .venv\n",
    "    python -m venv .venv\n",
    "    source .venv/bin/activate\n",
    "    pip install -r requirements.txt\n",
    "    ```\n",
    "\n",
    "By following these steps, you should be able to gather more information about the cause of the kernel crash and potentially resolve the issue. If you need further assistance, feel free to ask!"
   ]
  }
 ],
 "metadata": {
  "language_info": {
   "name": "python"
  }
 },
 "nbformat": 4,
 "nbformat_minor": 2
}
