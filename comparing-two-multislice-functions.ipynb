{
 "cells": [
  {
   "cell_type": "markdown",
   "metadata": {},
   "source": [
    "# Comparing the Two Multislice Functions"
   ]
  },
  {
   "cell_type": "markdown",
   "metadata": {},
   "source": [
    "1. Chromatix Pipeline Multislice: simulate_multislice_chromatix()\n",
    "2. Iteratively Applying the Projection Approximation: simulate_multislice_PA()\n",
    "\n",
    "The two functions should both produce the same result when done correctly. However, currently (01/31/25) the second multislice function (_PA) produces correct results (significantly different from the projection approximation as expected) while the first multislice function (_chromatix) produces incorrect results, namely little to virtually no difference between the multislice and the actual projection approximation."
   ]
  },
  {
   "cell_type": "markdown",
   "metadata": {},
   "source": [
    "### Prelims"
   ]
  },
  {
   "cell_type": "code",
   "execution_count": 11,
   "metadata": {},
   "outputs": [],
   "source": [
    "from time import time\n",
    "import numpy as np\n",
    "import matplotlib.pyplot as plt\n",
    "from mpl_toolkits.axes_grid1.anchored_artists import AnchoredSizeBar\n",
    "import jax\n",
    "import jax.numpy as jnp\n",
    "\n",
    "from src.spectral_xpci.xscatter import get_delta_beta_mix\n",
    "from src.spectral_xpci.simulate import get_wavelen, apply_psf, simulate_projection\n",
    "from chromatix.ops import init_plane_resample\n",
    "import chromatix.functional as cx\n",
    "\n",
    "from multislice import Material, make_fiber_phantom"
   ]
  },
  {
   "cell_type": "code",
   "execution_count": 12,
   "metadata": {},
   "outputs": [],
   "source": [
    "pmma = Material('PMMA', 'H(8.06)C(59.98)O(31.96)', 1.19)\n",
    "nylon = Material('nylon', 'H(9.7980)C(63.6853)N(12.3779)O(14.1388)', 1.15)\n",
    "glass = Material('glass', 'O(53.9559)Na(2.8191)Al(1.1644)Si(37.7220)K(0.3321)', 2.230)\n",
    "breast = Material('breast tissue', 'C(33.2)N(3.0)O(52.7)Na(0.1)P(0.1)S(0.2)Cl(0.1)', 1.02)\n",
    "\n",
    "plt.rcParams.update({\n",
    "    'figure.dpi': 150,\n",
    "    'font.size':10,\n",
    "    'axes.titlesize':10,\n",
    "    'axes.labelsize':8,\n",
    "    'axes.linewidth': .5,\n",
    "    'xtick.top': True, \n",
    "    'ytick.right': True, \n",
    "    'xtick.direction': 'in', \n",
    "    'ytick.direction': 'in',\n",
    "    'xtick.labelsize':8,\n",
    "    'ytick.labelsize':8,\n",
    "    'legend.fontsize': 8,\n",
    "    'lines.linewidth':1,\n",
    "    'image.cmap':'gray'\n",
    "    })\n",
    "\n",
    "def add_scalebar(ax, sz, Nx, real_dx, real_units, color='k'):\n",
    "    width_px = sz * Nx \n",
    "    label = f'{real_dx * width_px:.0f} {real_units}'\n",
    "    scalebar = AnchoredSizeBar(ax.transData, width_px, label, 'lower left', size_vertical=1, frameon=False, color=color)\n",
    "    ax.add_artist(scalebar)\n",
    "\n",
    "def im_min(im1, im2):\n",
    "    return min(np.min(im1), np.min(im2))\n",
    "\n",
    "def im_max(im1, im2):\n",
    "    return max(np.max(im1), np.max(im2))\n",
    "\n",
    "def NF(a, E, z):  \n",
    "    \"\"\"Fresnel number\"\"\"\n",
    "    return a**2 / (get_wavelen(E)*z)"
   ]
  },
  {
   "cell_type": "markdown",
   "metadata": {},
   "source": [
    "### The Two Functions:"
   ]
  },
  {
   "cell_type": "code",
   "execution_count": 13,
   "metadata": {},
   "outputs": [],
   "source": [
    "def simulate_multislice_chromatix(obj_beta, obj_delta, phantom_dx, phantom_dz, phantom_N, z_slices, \n",
    "                                    det_shape, det_dx, det_fwhm, energy, propdist, I0):\n",
    "    # from multislice.ipynb\n",
    "    # this is the one that needs to be fiddled with to get the right output\n",
    "\n",
    "    # cailey added this line to troubleshoot / generalize\n",
    "    # note that cailey also added the function input parameters \"phantom_N, z_slices\" above\n",
    "    phantom_shape = jnp.array([z_slices, phantom_N, phantom_N])\n",
    "\n",
    "    field = cx.plane_wave(\n",
    "        shape = phantom_shape[1:], \n",
    "        dx = phantom_dx,\n",
    "        spectrum = get_wavelen(energy),\n",
    "        spectral_density = 1.0,\n",
    "    )\n",
    "\n",
    "    field = field / field.intensity.max()**0.5 / ((phantom_N / det_shape[0])**2)  # normalize\n",
    "    cval = field.intensity.max()\n",
    "\n",
    "    \n",
    "    # modulate field thru sample\n",
    "    exit_field = cx.multislice_thick_sample(field, obj_beta, obj_delta, n_avg, phantom_dz, N_pad)\n",
    "    \n",
    "    # propagate thru free space to the detector\n",
    "    det_field = cx.transfer_propagate(exit_field, propdist, n_medium, N_pad, cval=cval, mode='same')\n",
    "    \n",
    "    # resample from phantom resolution -> detector resolution (pixel sizes don't necessarily match)\n",
    "    det_resample_func = init_plane_resample(det_shape, (det_dx, det_dx), resampling_method='linear')\n",
    "    img_ms = det_resample_func(det_field.intensity.squeeze()[...,None,None], field.dx.ravel()[:1])[...,0,0]\n",
    "    # img_ms /= img_ms.ravel()[0] \n",
    "    # better normalization here! \n",
    "    \n",
    "    # add noise and PSF blur\n",
    "    img_ms = jax.random.poisson(key, I0*img_ms, img_ms.shape) / I0 # noise\n",
    "    img_ms = apply_psf(img_ms, fov, det_dx, psf=det_psf, fwhm=det_fwhm, kernel_width=0.1)\n",
    "\n",
    "    return img_ms"
   ]
  },
  {
   "cell_type": "code",
   "execution_count": 14,
   "metadata": {},
   "outputs": [],
   "source": [
    "def simulate_multislice_PA(obj_beta, obj_delta, phantom_dx, phantom_dz, phantom_N, z_slices, \n",
    "                        det_shape, det_dx, det_fwhm, energy, propdist, I0,\n",
    "                        det_psf='lorentzian', N_pad=100, n_medium=1, n_avg=1, key=jax.random.PRNGKey(3),\n",
    "                        dzlist=None):\n",
    "    # from multislice.py\n",
    "    # this is the correct output used in AAPM 2025\n",
    "    \n",
    "    phantom_shape = jnp.array([z_slices, phantom_N, phantom_N])\n",
    "\n",
    "    field = cx.plane_wave(\n",
    "        shape = phantom_shape[1:], \n",
    "        dx = phantom_dx,\n",
    "        spectrum = get_wavelen(energy),\n",
    "        spectral_density = 1.0,\n",
    "    )\n",
    "\n",
    "    field = field / field.intensity.max()**0.5 \n",
    "    cval = field.intensity.max()\n",
    "\n",
    "    # modulate field thru sample\n",
    "    # exit_field = cx.multislice_thick_sample(field, obj_beta, obj_delta, n_avg, phantom_dz, N_pad)\n",
    "    field_k = field\n",
    "    if dzlist is not None:\n",
    "        all_dz = dzlist\n",
    "    else:\n",
    "        all_dz = np.ones(z_slices) * phantom_dz\n",
    "        \n",
    "    for k in range(z_slices):\n",
    "        # field_k = cx.thin_sample(field_k, obj_beta[k][None, ..., None, None], obj_delta[k][None, ..., None, None], phantom_dz)\n",
    "        # field_k = cx.transfer_propagate(field_k, phantom_dz, n_medium, N_pad, cval=cval, mode='same')\n",
    "        field_k = cx.thin_sample(field_k, obj_beta[k][None, ..., None, None], obj_delta[k][None, ..., None, None], all_dz[k])\n",
    "        field_k = cx.transfer_propagate(field_k, all_dz[k], n_medium, N_pad, cval=cval, mode='same')\n",
    "    exit_field = field_k\n",
    "    \n",
    "    # propagate thru free space to the detector\n",
    "    det_field = cx.transfer_propagate(exit_field, propdist, n_medium, N_pad, cval=cval, mode='same')\n",
    "    \n",
    "    # resample from phantom resolution -> detector resolution (pixel sizes don't necessarily match)\n",
    "    det_resample_func = init_plane_resample(det_shape, (det_dx, det_dx), resampling_method='linear')\n",
    "    img_ms = det_resample_func(det_field.intensity.squeeze()[...,None,None], field.dx.ravel()[:1])[...,0,0]\n",
    "    img_ms = img_ms / (det_dx/phantom_dx)**2  # normalize to new pixel size\n",
    "\n",
    "    # add noise and PSF blur\n",
    "    if I0 is not None:\n",
    "        img_ms = jax.random.poisson(key, I0*img_ms, img_ms.shape) / I0 # noise\n",
    "\n",
    "    if det_psf is not None:\n",
    "        det_fov = det_shape[0]*det_dx\n",
    "        img_ms = apply_psf(img_ms, det_fov, det_dx, psf=det_psf, fwhm=det_fwhm, kernel_width=0.1)\n",
    "\n",
    "    return img_ms\n"
   ]
  },
  {
   "cell_type": "markdown",
   "metadata": {},
   "source": [
    "### Demonstrating Each Function\n",
    "\n",
    "with the same fiber phantom"
   ]
  },
  {
   "cell_type": "markdown",
   "metadata": {},
   "source": [
    "#### Fiber Phantom"
   ]
  },
  {
   "cell_type": "markdown",
   "metadata": {},
   "source": [
    "Parameters:"
   ]
  },
  {
   "cell_type": "code",
   "execution_count": 20,
   "metadata": {},
   "outputs": [
    {
     "name": "stdout",
     "output_type": "stream",
     "text": [
      "detector px = 5.0 um, E = 20 keV, thickness = 50.0 mm ==> NF = 8.07\n"
     ]
    }
   ],
   "source": [
    "##########################################\n",
    "### Parameters \n",
    "\n",
    "energy = 20\n",
    "propdist = 30e-2 \n",
    "I0 = 1e6   # number of incident photons per detector pixel (or `None` for no noise)\n",
    "\n",
    "# Phantom:\n",
    "N = 1024\n",
    "dx = 1.25e-6 / 2     # ~roughly half micron pixels\n",
    "fov = N*dx           # thickness in the transverse plane (x-y)\n",
    "thickness = 5e-2     # thickness along propagation axis (z)\n",
    "\n",
    "# Detector:\n",
    "det_shape = (128, 128)   # Note -- detector is smaller than phantom! Only 128x128 vs 1024x1024.\n",
    "det_fov = fov                \n",
    "det_dx = det_fov / det_shape[0]  \n",
    "det_psf = None #'lorentzian'\n",
    "det_fwhm = 1e-6\n",
    "\n",
    "fiber_width = 50e-6\n",
    "Nz = 10\n",
    "dz = thickness/Nz\n",
    "\n",
    "print(f'detector px = {det_dx*1e6:.1f} um, E = {energy:.0f} keV, thickness = {thickness*1e3:.1f} mm ==> NF = {NF(det_dx, energy, thickness):.2f}')"
   ]
  },
  {
   "cell_type": "code",
   "execution_count": 22,
   "metadata": {},
   "outputs": [],
   "source": [
    "def show_phantom(obj_delta, obj_beta):\n",
    "    fig, ax = plt.subplots(1, 2, figsize=[8,3])\n",
    "    fig.suptitle('Line integrals along optical (z) axis')\n",
    "    for i, obj in enumerate([obj_delta, obj_beta]):\n",
    "        ax[i].set_title(['delta', 'beta'][i])\n",
    "        # m = ax[i].imshow(obj[obj.shape[0]//2,:,:])  # central z-slice\n",
    "        m = ax[i].imshow(np.sum(obj, axis=0))  # central z-slice\n",
    "        fig.colorbar(m, ax=ax[i])\n",
    "        ax[i].set_xticks([])\n",
    "        ax[i].set_yticks([])\n",
    "    fig.tight_layout()\n",
    "    plt.show()    "
   ]
  },
  {
   "cell_type": "code",
   "execution_count": 23,
   "metadata": {},
   "outputs": [
    {
     "data": {
      "image/png": "[encoded data removed]",
      "text/plain": [
       "<Figure size 1200x450 with 4 Axes>"
      ]
     },
     "metadata": {},
     "output_type": "display_data"
    },
    {
     "name": "stdout",
     "output_type": "stream",
     "text": [
      "CPU times: user 4.02 s, sys: 1.21 s, total: 5.23 s\n",
      "Wall time: 3.92 s\n"
     ]
    }
   ],
   "source": [
    "%%time\n",
    "\n",
    "phantom_shape = jnp.array([Nz, N, N])\n",
    "obj_delta, obj_beta = make_fiber_phantom(N, Nz, dx, fiber_width, energy, fiber_material=nylon, background_material=pmma)\n",
    "show_phantom(obj_delta, obj_beta)"
   ]
  },
  {
   "cell_type": "markdown",
   "metadata": {},
   "source": [
    "#### Visual"
   ]
  },
  {
   "cell_type": "code",
   "execution_count": 17,
   "metadata": {},
   "outputs": [
    {
     "data": {
      "text/plain": [
       "Ellipsis"
      ]
     },
     "execution_count": 17,
     "metadata": {},
     "output_type": "execute_result"
    }
   ],
   "source": [
    "..."
   ]
  },
  {
   "cell_type": "markdown",
   "metadata": {},
   "source": [
    "#### Line Profile"
   ]
  },
  {
   "cell_type": "code",
   "execution_count": 18,
   "metadata": {},
   "outputs": [
    {
     "data": {
      "text/plain": [
       "Ellipsis"
      ]
     },
     "execution_count": 18,
     "metadata": {},
     "output_type": "execute_result"
    }
   ],
   "source": [
    "..."
   ]
  }
 ],
 "metadata": {
  "kernelspec": {
   "display_name": ".venv",
   "language": "python",
   "name": "python3"
  },
  "language_info": {
   "codemirror_mode": {
    "name": "ipython",
    "version": 3
   },
   "file_extension": ".py",
   "mimetype": "text/x-python",
   "name": "python",
   "nbconvert_exporter": "python",
   "pygments_lexer": "ipython3",
   "version": "3.10.12"
  }
 },
 "nbformat": 4,
 "nbformat_minor": 2
}
